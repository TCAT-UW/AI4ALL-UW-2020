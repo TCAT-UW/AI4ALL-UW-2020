name: machinelearning
channels:
        - conda-forge

dependencies:
        - python=3.6
        - opencv
